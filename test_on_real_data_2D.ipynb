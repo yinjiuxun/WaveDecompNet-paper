{
 "cells": [
  {
   "cell_type": "code",
   "execution_count": 4,
   "id": "fad0e3a0",
   "metadata": {},
   "outputs": [],
   "source": [
    "import numpy as np\n",
    "import h5py\n",
    "import matplotlib.pyplot as plt\n",
    "from sklearn.preprocessing import StandardScaler\n",
    "import keras\n",
    "import os, glob\n",
    "\n",
    "from utilities import downsample_series"
   ]
  },
  {
   "cell_type": "code",
   "execution_count": null,
   "id": "6f0e7a54",
   "metadata": {},
   "outputs": [],
   "source": [
    "%matplotlib inline"
   ]
  },
  {
   "cell_type": "code",
   "execution_count": 5,
   "id": "676d6dae",
   "metadata": {},
   "outputs": [],
   "source": [
    "# %% Need to specify model_name first\n",
    "model_path = './Model_and_datasets_spectrogram'\n",
    "model_name = 'spectrogram_mask_skip_connection'\n",
    "\n",
    "# %% load model\n",
    "model = keras.models.load_model(model_path + f'/{model_name}' + f'/{model_name}_Model.hdf5')\n",
    "\n",
    "# %% make a directory to hold the realistic waveform results\n",
    "output_dir = model_path + f'/{model_name}' + '/real_waveforms'\n",
    "if not os.path.exists(output_dir):\n",
    "    os.mkdir(output_dir)"
   ]
  },
  {
   "cell_type": "code",
   "execution_count": 38,
   "id": "b0fe0493",
   "metadata": {},
   "outputs": [],
   "source": [
    "def load_waveform_and_spectrogram(waveform_dir, file_name, t_shift):\n",
    "    with h5py.File(waveform_dir + \"/\" + file_name, \"r\") as f:\n",
    "        time = f[\"time\"][:]\n",
    "        waveform_BH1 = f[\"waveforms/BH1\"][:]\n",
    "        waveform_BH2 = f[\"waveforms/BH2\"][:]\n",
    "        waveform_BHZ = f[\"waveforms/BHZ\"][:]\n",
    "        \n",
    "    # down-sample the data to the same sampling rate with the trained model\n",
    "    waveforms, spectrograms, spectrogram_para = [], [], {}\n",
    "    f_downsample = 1.0\n",
    "    dt = 1 / f_downsample\n",
    "    for waveform in [waveform_BH1, waveform_BH2, waveform_BHZ]:\n",
    "        _, waveform_cur, _ = downsample_series(time=time, \n",
    "                                                   series=waveform, \n",
    "                                                   f_downsampe=f_downsample)\n",
    "        time_new = np.arange(0, 600) + t_shift\n",
    "        waveform_cur = waveform_cur[time_new]\n",
    "        \n",
    "        \n",
    "        \n",
    "        # STFT the waveforms\n",
    "        twin = 30\n",
    "        toverlap = 11  # chose 11 here to make a better shape of the spectrogram\n",
    "        win_type = 'hann'\n",
    "\n",
    "        f, t, Sxx_X = waveform_stft(waveform_cur, \n",
    "                                    dt, twin=twin, toverlap=toverlap, \n",
    "                                    win_type=win_type, complex=True)\n",
    "        \n",
    "        # extract and scale each part\n",
    "        X_real = np.real(Sxx_X)\n",
    "        X_imag = np.imag(Sxx_X)\n",
    "        \n",
    "        mean_real, std_real = np.mean(X_real.flatten()), np.std(X_real.flatten())\n",
    "        mean_imag, std_imag = np.mean(X_imag.flatten()), np.std(X_imag.flatten())\n",
    "        X_real = (X_real - mean_real)/ std_real\n",
    "        X_imag = (X_imag - mean_imag)/ std_imag\n",
    "        \n",
    "        # append the processed waveforms and spectrograms\n",
    "        waveforms.append(waveform_cur)\n",
    "        spectrograms.append(X_real)\n",
    "        spectrograms.append(X_imag)\n",
    "        \n",
    "    # store some parameters about the spectrogram    \n",
    "    spectrogram_para['dt'] = dt\n",
    "    spectrogram_para['twin'] = twin\n",
    "    spectrogram_para['win_type'] = win_type\n",
    "    spectrogram_para['toverlap'] = toverlap\n",
    "    spectrogram_para['t'] = t\n",
    "    spectrogram_para['f'] = f\n",
    "    \n",
    "    waveforms = np.array(waveforms)\n",
    "    spectrograms = np.array(spectrograms)\n",
    "    \n",
    "    return time_new, waveforms, spectrograms, spectrogram_para"
   ]
  },
  {
   "cell_type": "code",
   "execution_count": 7,
   "id": "ff0ced05",
   "metadata": {},
   "outputs": [],
   "source": [
    "# load the waveforms\n",
    "waveform_dir = \"./waveforms/events_data_processed\"\n",
    "waveform_files = np.array(os.listdir(waveform_dir))"
   ]
  },
  {
   "cell_type": "code",
   "execution_count": 39,
   "id": "ec906506",
   "metadata": {},
   "outputs": [],
   "source": [
    "file_name = \"IU.XMAS.M6.0.20191224-190352.hdf5\"\n",
    "t_shift = 0\n",
    "time_new, waveforms, spectrograms, spectrogram_para = load_waveform_and_spectrogram(waveform_dir, file_name, t_shift)"
   ]
  },
  {
   "cell_type": "code",
   "execution_count": 44,
   "id": "870a90d1",
   "metadata": {},
   "outputs": [
    {
     "data": {
      "text/plain": [
       "{'dt': 1.0,\n",
       " 'twin': 30,\n",
       " 'win_type': 'hann',\n",
       " 'toverlap': 11,\n",
       " 't': array([  0.,  19.,  38.,  57.,  76.,  95., 114., 133., 152., 171., 190.,\n",
       "        209., 228., 247., 266., 285., 304., 323., 342., 361., 380., 399.,\n",
       "        418., 437., 456., 475., 494., 513., 532., 551., 570., 589., 608.]),\n",
       " 'f': array([0.        , 0.03333333, 0.06666667, 0.1       , 0.13333333,\n",
       "        0.16666667, 0.2       , 0.23333333, 0.26666667, 0.3       ,\n",
       "        0.33333333, 0.36666667, 0.4       , 0.43333333, 0.46666667,\n",
       "        0.5       ])}"
      ]
     },
     "execution_count": 44,
     "metadata": {},
     "output_type": "execute_result"
    }
   ],
   "source": [
    "spectrogram_para\n"
   ]
  },
  {
   "cell_type": "code",
   "execution_count": 9,
   "id": "96fdeae0",
   "metadata": {},
   "outputs": [
    {
     "data": {
      "text/plain": [
       "(1, 600, 3)"
      ]
     },
     "execution_count": 9,
     "metadata": {},
     "output_type": "execute_result"
    }
   ],
   "source": [
    "waveforms_new.shape"
   ]
  },
  {
   "cell_type": "code",
   "execution_count": 10,
   "id": "81dbf454",
   "metadata": {},
   "outputs": [
    {
     "data": {
      "text/plain": [
       "[<matplotlib.lines.Line2D at 0x2b7b8f21c160>]"
      ]
     },
     "execution_count": 10,
     "metadata": {},
     "output_type": "execute_result"
    },
    {
     "data": {
      "image/png": "[encoded data removed]",
      "text/plain": [
       "<Figure size 432x288 with 1 Axes>"
      ]
     },
     "metadata": {
      "needs_background": "light"
     },
     "output_type": "display_data"
    }
   ],
   "source": [
    "plt.plot(time_new, np.squeeze(waveforms_new[0, :, 0]))"
   ]
  },
  {
   "cell_type": "code",
   "execution_count": 11,
   "id": "b58a5ad6",
   "metadata": {},
   "outputs": [],
   "source": [
    "from utilities import waveform_stft, waveform_inverse_stft"
   ]
  },
  {
   "cell_type": "code",
   "execution_count": null,
   "id": "27186a71",
   "metadata": {},
   "outputs": [],
   "source": []
  }
 ],
 "metadata": {
  "kernelspec": {
   "display_name": "Python 3",
   "language": "python",
   "name": "python3"
  },
  "language_info": {
   "codemirror_mode": {
    "name": "ipython",
    "version": 3
   },
   "file_extension": ".py",
   "mimetype": "text/x-python",
   "name": "python",
   "nbconvert_exporter": "python",
   "pygments_lexer": "ipython3",
   "version": "3.8.10"
  }
 },
 "nbformat": 4,
 "nbformat_minor": 5
}
