{
 "cells": [
  {
   "cell_type": "code",
   "execution_count": 18,
   "id": "bridal-study",
   "metadata": {},
   "outputs": [],
   "source": [
    "#%%\n",
    "import os\n",
    "import numpy as np\n",
    "import datetime\n",
    "from matplotlib import pyplot as plt\n",
    "\n",
    "# import the Obspy modules that we will use in this exercise\n",
    "import obspy\n",
    "from obspy.clients.fdsn import Client\n",
    "from obspy.taup import TauPyModel\n",
    "from obspy.geodetics import locations2degrees\n"
   ]
  },
  {
   "cell_type": "code",
   "execution_count": 41,
   "id": "spoken-designer",
   "metadata": {},
   "outputs": [],
   "source": [
    "#%% function to download the seismograms give the network, station, startime and endtime of the waveform\n",
    "def download_stations(network, stations, channels, path, location='00'):\n",
    "\n",
    "    \n",
    "    for station in stations:\n",
    "        for channel in channels:\n",
    "            fname = path + \"/\" + network + \".\" + station + \".\" + channel \n",
    "            inventory = client.get_stations(network=network, station=station, channel=channel, \n",
    "                                  location=location,level=\"response\")\n",
    "            inventory.write(fname + \".xml\", format=\"STATIONXML\") \n",
    "\n",
    "# download waveform given network          \n",
    "def download_waveforms(network, stations, channels, starttime, endtime, path, location='00'):\n",
    "    \n",
    "    for station in stations:\n",
    "        for channel in channels:\n",
    "            fname = path + \"/\" + network + \".\" + station + \".\" + channel + \".\" + starttime.strftime('%Y%m%d')\n",
    "            tr = client.get_waveforms(network=network, station=station, channel=channel, \n",
    "                                      location=location, starttime = starttime - 1800, endtime=endtime + 1800,\n",
    "                                      attach_response=True)\n",
    "            tr.detrend(\"spline\", order=3, dspline=1000)\n",
    "            tr.remove_response(output=\"VEL\")\n",
    "            \n",
    "            # here to deal with the taperring at both end, only keep the central 1-hour long data\n",
    "            newtr = tr.slice(starttime, endtime) # probably fix later\n",
    "            \n",
    "            newtr.write(fname + \".mseed\", format='MSEED')\n",
    "            "
   ]
  },
  {
   "cell_type": "code",
   "execution_count": 26,
   "id": "respective-wisconsin",
   "metadata": {},
   "outputs": [
    {
     "name": "stdout",
     "output_type": "stream",
     "text": [
      "/Users/Yin9xun/Work/island_stations\n"
     ]
    }
   ],
   "source": [
    "#%%\n",
    "working_dir = '/Users/Yin9xun/Work/island_stations'\n",
    "if not os.path.exists(working_dir):\n",
    "    os.makedirs(working_dir)\n",
    "os.chdir(working_dir)\n",
    "\n",
    "print(os.getcwd())"
   ]
  },
  {
   "cell_type": "code",
   "execution_count": 27,
   "id": "textile-assignment",
   "metadata": {},
   "outputs": [],
   "source": [
    "#%%\n",
    "#@title Step 2.1 Specify the stations and time { display-mode: \"both\" }\n",
    "# Specify the network and stations we want.\n",
    "network = 'IU' # A specific seismic network to which the stations belong \n",
    "stations = np.array(['XMAS','KIP','POHA']) # Names of the stations\n",
    "channels = np.array(['BH1','BH2','BHZ']) # Channels\n",
    "# Specify begining time of the waveforms\n",
    "year = 2018 \n",
    "month = 1 \n",
    "day = 1 \n",
    "hour = 0 \n",
    "minute = 0 \n",
    "second = 0 \n",
    "seconds_per_day = 24 * 60 * 60\n",
    "\n",
    "\n",
    "\n",
    "station_dir = working_dir + '/stations'\n",
    "if not os.path.exists(station_dir):\n",
    "    os.makedirs(station_dir)\n",
    "waveform_dir = working_dir + '/waveforms'\n",
    "if not os.path.exists(waveform_dir):\n",
    "    os.makedirs(waveform_dir)\n"
   ]
  },
  {
   "cell_type": "code",
   "execution_count": 42,
   "id": "combined-blame",
   "metadata": {
    "scrolled": false
   },
   "outputs": [
    {
     "name": "stdout",
     "output_type": "stream",
     "text": [
      "Installed new opener with handlers: [<obspy.clients.fdsn.client.CustomRedirectHandler object at 0x7f8c01abce48>]\n",
      "Base URL: http://service.iris.edu\n",
      "Request Headers: {'User-Agent': 'ObsPy/1.2.2 (Darwin-20.3.0-x86_64-i386-64bit, Python 3.6.13)'}\n",
      "Loading discovered services from cache.\n"
     ]
    }
   ],
   "source": [
    "#%%\n",
    "client = Client('IRIS', debug=True)"
   ]
  },
  {
   "cell_type": "code",
   "execution_count": null,
   "id": "complete-vietnamese",
   "metadata": {},
   "outputs": [],
   "source": [
    "download_stations(network, stations, channels, station_dir)"
   ]
  },
  {
   "cell_type": "code",
   "execution_count": 43,
   "id": "virtual-bidder",
   "metadata": {},
   "outputs": [
    {
     "name": "stdout",
     "output_type": "stream",
     "text": [
      "Downloading http://service.iris.edu/fdsnws/dataselect/1/query?starttime=2017-12-31T23%3A30%3A00.000000&endtime=2018-01-02T00%3A30%3A00.000000&network=IU&station=XMAS&location=00&channel=BH1 without requesting gzip compression\n",
      "Downloaded http://service.iris.edu/fdsnws/dataselect/1/query?starttime=2017-12-31T23%3A30%3A00.000000&endtime=2018-01-02T00%3A30%3A00.000000&network=IU&station=XMAS&location=00&channel=BH1 with HTTP code: 200\n",
      "Downloading http://service.iris.edu/fdsnws/station/1/query?starttime=2017-12-31T23%3A30%3A00.019538&endtime=2018-01-02T00%3A29%3A59.994538&network=IU&station=XMAS&location=00&channel=BH1&level=response with requesting gzip compression\n",
      "Uncompressing gzipped response for http://service.iris.edu/fdsnws/station/1/query?starttime=2017-12-31T23%3A30%3A00.019538&endtime=2018-01-02T00%3A29%3A59.994538&network=IU&station=XMAS&location=00&channel=BH1&level=response\n",
      "Downloaded http://service.iris.edu/fdsnws/station/1/query?starttime=2017-12-31T23%3A30%3A00.019538&endtime=2018-01-02T00%3A29%3A59.994538&network=IU&station=XMAS&location=00&channel=BH1&level=response with HTTP code: 200\n"
     ]
    },
    {
     "name": "stderr",
     "output_type": "stream",
     "text": [
      "/Users/Yin9xun/opt/anaconda3/envs/spyder-py36/lib/python3.6/site-packages/obspy/io/mseed/core.py:790: UserWarning: The encoding specified in trace.stats.mseed.encoding does not match the dtype of the data.\n",
      "A suitable encoding will be chosen.\n",
      "  warnings.warn(msg, UserWarning)\n"
     ]
    },
    {
     "name": "stdout",
     "output_type": "stream",
     "text": [
      "Downloading http://service.iris.edu/fdsnws/dataselect/1/query?starttime=2017-12-31T23%3A30%3A00.000000&endtime=2018-01-02T00%3A30%3A00.000000&network=IU&station=XMAS&location=00&channel=BH2 without requesting gzip compression\n",
      "Downloaded http://service.iris.edu/fdsnws/dataselect/1/query?starttime=2017-12-31T23%3A30%3A00.000000&endtime=2018-01-02T00%3A30%3A00.000000&network=IU&station=XMAS&location=00&channel=BH2 with HTTP code: 200\n",
      "Downloading http://service.iris.edu/fdsnws/station/1/query?starttime=2017-12-31T23%3A30%3A00.019538&endtime=2018-01-02T00%3A29%3A59.994538&network=IU&station=XMAS&location=00&channel=BH2&level=response with requesting gzip compression\n",
      "Uncompressing gzipped response for http://service.iris.edu/fdsnws/station/1/query?starttime=2017-12-31T23%3A30%3A00.019538&endtime=2018-01-02T00%3A29%3A59.994538&network=IU&station=XMAS&location=00&channel=BH2&level=response\n",
      "Downloaded http://service.iris.edu/fdsnws/station/1/query?starttime=2017-12-31T23%3A30%3A00.019538&endtime=2018-01-02T00%3A29%3A59.994538&network=IU&station=XMAS&location=00&channel=BH2&level=response with HTTP code: 200\n"
     ]
    },
    {
     "name": "stderr",
     "output_type": "stream",
     "text": [
      "/Users/Yin9xun/opt/anaconda3/envs/spyder-py36/lib/python3.6/site-packages/obspy/io/mseed/core.py:790: UserWarning: The encoding specified in trace.stats.mseed.encoding does not match the dtype of the data.\n",
      "A suitable encoding will be chosen.\n",
      "  warnings.warn(msg, UserWarning)\n"
     ]
    },
    {
     "name": "stdout",
     "output_type": "stream",
     "text": [
      "Downloading http://service.iris.edu/fdsnws/dataselect/1/query?starttime=2017-12-31T23%3A30%3A00.000000&endtime=2018-01-02T00%3A30%3A00.000000&network=IU&station=XMAS&location=00&channel=BHZ without requesting gzip compression\n",
      "Downloaded http://service.iris.edu/fdsnws/dataselect/1/query?starttime=2017-12-31T23%3A30%3A00.000000&endtime=2018-01-02T00%3A30%3A00.000000&network=IU&station=XMAS&location=00&channel=BHZ with HTTP code: 200\n",
      "Downloading http://service.iris.edu/fdsnws/station/1/query?starttime=2017-12-31T23%3A30%3A00.019538&endtime=2018-01-02T00%3A29%3A59.994538&network=IU&station=XMAS&location=00&channel=BHZ&level=response with requesting gzip compression\n",
      "Uncompressing gzipped response for http://service.iris.edu/fdsnws/station/1/query?starttime=2017-12-31T23%3A30%3A00.019538&endtime=2018-01-02T00%3A29%3A59.994538&network=IU&station=XMAS&location=00&channel=BHZ&level=response\n",
      "Downloaded http://service.iris.edu/fdsnws/station/1/query?starttime=2017-12-31T23%3A30%3A00.019538&endtime=2018-01-02T00%3A29%3A59.994538&network=IU&station=XMAS&location=00&channel=BHZ&level=response with HTTP code: 200\n"
     ]
    },
    {
     "name": "stderr",
     "output_type": "stream",
     "text": [
      "/Users/Yin9xun/opt/anaconda3/envs/spyder-py36/lib/python3.6/site-packages/obspy/io/mseed/core.py:790: UserWarning: The encoding specified in trace.stats.mseed.encoding does not match the dtype of the data.\n",
      "A suitable encoding will be chosen.\n",
      "  warnings.warn(msg, UserWarning)\n"
     ]
    },
    {
     "name": "stdout",
     "output_type": "stream",
     "text": [
      "Downloading http://service.iris.edu/fdsnws/dataselect/1/query?starttime=2017-12-31T23%3A30%3A00.000000&endtime=2018-01-02T00%3A30%3A00.000000&network=IU&station=KIP&location=00&channel=BH1 without requesting gzip compression\n",
      "Downloaded http://service.iris.edu/fdsnws/dataselect/1/query?starttime=2017-12-31T23%3A30%3A00.000000&endtime=2018-01-02T00%3A30%3A00.000000&network=IU&station=KIP&location=00&channel=BH1 with HTTP code: 200\n",
      "Downloading http://service.iris.edu/fdsnws/station/1/query?starttime=2017-12-31T23%3A30%3A00.019538&endtime=2018-01-02T00%3A29%3A59.969538&network=IU&station=KIP&location=00&channel=BH1&level=response with requesting gzip compression\n",
      "Uncompressing gzipped response for http://service.iris.edu/fdsnws/station/1/query?starttime=2017-12-31T23%3A30%3A00.019538&endtime=2018-01-02T00%3A29%3A59.969538&network=IU&station=KIP&location=00&channel=BH1&level=response\n",
      "Downloaded http://service.iris.edu/fdsnws/station/1/query?starttime=2017-12-31T23%3A30%3A00.019538&endtime=2018-01-02T00%3A29%3A59.969538&network=IU&station=KIP&location=00&channel=BH1&level=response with HTTP code: 200\n"
     ]
    },
    {
     "name": "stderr",
     "output_type": "stream",
     "text": [
      "/Users/Yin9xun/opt/anaconda3/envs/spyder-py36/lib/python3.6/site-packages/obspy/io/mseed/core.py:790: UserWarning: The encoding specified in trace.stats.mseed.encoding does not match the dtype of the data.\n",
      "A suitable encoding will be chosen.\n",
      "  warnings.warn(msg, UserWarning)\n"
     ]
    },
    {
     "name": "stdout",
     "output_type": "stream",
     "text": [
      "Downloading http://service.iris.edu/fdsnws/dataselect/1/query?starttime=2017-12-31T23%3A30%3A00.000000&endtime=2018-01-02T00%3A30%3A00.000000&network=IU&station=KIP&location=00&channel=BH2 without requesting gzip compression\n",
      "Downloaded http://service.iris.edu/fdsnws/dataselect/1/query?starttime=2017-12-31T23%3A30%3A00.000000&endtime=2018-01-02T00%3A30%3A00.000000&network=IU&station=KIP&location=00&channel=BH2 with HTTP code: 200\n",
      "Downloading http://service.iris.edu/fdsnws/station/1/query?starttime=2017-12-31T23%3A30%3A00.019538&endtime=2018-01-02T00%3A29%3A59.969538&network=IU&station=KIP&location=00&channel=BH2&level=response with requesting gzip compression\n",
      "Uncompressing gzipped response for http://service.iris.edu/fdsnws/station/1/query?starttime=2017-12-31T23%3A30%3A00.019538&endtime=2018-01-02T00%3A29%3A59.969538&network=IU&station=KIP&location=00&channel=BH2&level=response\n",
      "Downloaded http://service.iris.edu/fdsnws/station/1/query?starttime=2017-12-31T23%3A30%3A00.019538&endtime=2018-01-02T00%3A29%3A59.969538&network=IU&station=KIP&location=00&channel=BH2&level=response with HTTP code: 200\n"
     ]
    },
    {
     "name": "stderr",
     "output_type": "stream",
     "text": [
      "/Users/Yin9xun/opt/anaconda3/envs/spyder-py36/lib/python3.6/site-packages/obspy/io/mseed/core.py:790: UserWarning: The encoding specified in trace.stats.mseed.encoding does not match the dtype of the data.\n",
      "A suitable encoding will be chosen.\n",
      "  warnings.warn(msg, UserWarning)\n"
     ]
    },
    {
     "name": "stdout",
     "output_type": "stream",
     "text": [
      "Downloading http://service.iris.edu/fdsnws/dataselect/1/query?starttime=2017-12-31T23%3A30%3A00.000000&endtime=2018-01-02T00%3A30%3A00.000000&network=IU&station=KIP&location=00&channel=BHZ without requesting gzip compression\n",
      "Downloaded http://service.iris.edu/fdsnws/dataselect/1/query?starttime=2017-12-31T23%3A30%3A00.000000&endtime=2018-01-02T00%3A30%3A00.000000&network=IU&station=KIP&location=00&channel=BHZ with HTTP code: 200\n",
      "Downloading http://service.iris.edu/fdsnws/station/1/query?starttime=2017-12-31T23%3A30%3A00.019538&endtime=2018-01-02T00%3A29%3A59.969538&network=IU&station=KIP&location=00&channel=BHZ&level=response with requesting gzip compression\n",
      "Uncompressing gzipped response for http://service.iris.edu/fdsnws/station/1/query?starttime=2017-12-31T23%3A30%3A00.019538&endtime=2018-01-02T00%3A29%3A59.969538&network=IU&station=KIP&location=00&channel=BHZ&level=response\n",
      "Downloaded http://service.iris.edu/fdsnws/station/1/query?starttime=2017-12-31T23%3A30%3A00.019538&endtime=2018-01-02T00%3A29%3A59.969538&network=IU&station=KIP&location=00&channel=BHZ&level=response with HTTP code: 200\n"
     ]
    },
    {
     "name": "stderr",
     "output_type": "stream",
     "text": [
      "/Users/Yin9xun/opt/anaconda3/envs/spyder-py36/lib/python3.6/site-packages/obspy/io/mseed/core.py:790: UserWarning: The encoding specified in trace.stats.mseed.encoding does not match the dtype of the data.\n",
      "A suitable encoding will be chosen.\n",
      "  warnings.warn(msg, UserWarning)\n"
     ]
    },
    {
     "name": "stdout",
     "output_type": "stream",
     "text": [
      "Downloading http://service.iris.edu/fdsnws/dataselect/1/query?starttime=2017-12-31T23%3A30%3A00.000000&endtime=2018-01-02T00%3A30%3A00.000000&network=IU&station=POHA&location=00&channel=BH1 without requesting gzip compression\n",
      "Downloaded http://service.iris.edu/fdsnws/dataselect/1/query?starttime=2017-12-31T23%3A30%3A00.000000&endtime=2018-01-02T00%3A30%3A00.000000&network=IU&station=POHA&location=00&channel=BH1 with HTTP code: 200\n",
      "Downloading http://service.iris.edu/fdsnws/station/1/query?starttime=2017-12-31T23%3A30%3A00.019538&endtime=2018-01-02T00%3A29%3A59.969538&network=IU&station=POHA&location=00&channel=BH1&level=response with requesting gzip compression\n",
      "Uncompressing gzipped response for http://service.iris.edu/fdsnws/station/1/query?starttime=2017-12-31T23%3A30%3A00.019538&endtime=2018-01-02T00%3A29%3A59.969538&network=IU&station=POHA&location=00&channel=BH1&level=response\n",
      "Downloaded http://service.iris.edu/fdsnws/station/1/query?starttime=2017-12-31T23%3A30%3A00.019538&endtime=2018-01-02T00%3A29%3A59.969538&network=IU&station=POHA&location=00&channel=BH1&level=response with HTTP code: 200\n"
     ]
    },
    {
     "name": "stderr",
     "output_type": "stream",
     "text": [
      "/Users/Yin9xun/opt/anaconda3/envs/spyder-py36/lib/python3.6/site-packages/obspy/io/mseed/core.py:790: UserWarning: The encoding specified in trace.stats.mseed.encoding does not match the dtype of the data.\n",
      "A suitable encoding will be chosen.\n",
      "  warnings.warn(msg, UserWarning)\n"
     ]
    },
    {
     "name": "stdout",
     "output_type": "stream",
     "text": [
      "Downloading http://service.iris.edu/fdsnws/dataselect/1/query?starttime=2017-12-31T23%3A30%3A00.000000&endtime=2018-01-02T00%3A30%3A00.000000&network=IU&station=POHA&location=00&channel=BH2 without requesting gzip compression\n",
      "Downloaded http://service.iris.edu/fdsnws/dataselect/1/query?starttime=2017-12-31T23%3A30%3A00.000000&endtime=2018-01-02T00%3A30%3A00.000000&network=IU&station=POHA&location=00&channel=BH2 with HTTP code: 200\n",
      "Downloading http://service.iris.edu/fdsnws/station/1/query?starttime=2017-12-31T23%3A30%3A00.019539&endtime=2018-01-02T00%3A29%3A59.969539&network=IU&station=POHA&location=00&channel=BH2&level=response with requesting gzip compression\n",
      "Uncompressing gzipped response for http://service.iris.edu/fdsnws/station/1/query?starttime=2017-12-31T23%3A30%3A00.019539&endtime=2018-01-02T00%3A29%3A59.969539&network=IU&station=POHA&location=00&channel=BH2&level=response\n",
      "Downloaded http://service.iris.edu/fdsnws/station/1/query?starttime=2017-12-31T23%3A30%3A00.019539&endtime=2018-01-02T00%3A29%3A59.969539&network=IU&station=POHA&location=00&channel=BH2&level=response with HTTP code: 200\n"
     ]
    },
    {
     "name": "stderr",
     "output_type": "stream",
     "text": [
      "/Users/Yin9xun/opt/anaconda3/envs/spyder-py36/lib/python3.6/site-packages/obspy/io/mseed/core.py:790: UserWarning: The encoding specified in trace.stats.mseed.encoding does not match the dtype of the data.\n",
      "A suitable encoding will be chosen.\n",
      "  warnings.warn(msg, UserWarning)\n"
     ]
    },
    {
     "name": "stdout",
     "output_type": "stream",
     "text": [
      "Downloading http://service.iris.edu/fdsnws/dataselect/1/query?starttime=2017-12-31T23%3A30%3A00.000000&endtime=2018-01-02T00%3A30%3A00.000000&network=IU&station=POHA&location=00&channel=BHZ without requesting gzip compression\n",
      "Downloaded http://service.iris.edu/fdsnws/dataselect/1/query?starttime=2017-12-31T23%3A30%3A00.000000&endtime=2018-01-02T00%3A30%3A00.000000&network=IU&station=POHA&location=00&channel=BHZ with HTTP code: 200\n",
      "Downloading http://service.iris.edu/fdsnws/station/1/query?starttime=2017-12-31T23%3A30%3A00.019539&endtime=2018-01-02T00%3A29%3A59.969539&network=IU&station=POHA&location=00&channel=BHZ&level=response with requesting gzip compression\n",
      "Uncompressing gzipped response for http://service.iris.edu/fdsnws/station/1/query?starttime=2017-12-31T23%3A30%3A00.019539&endtime=2018-01-02T00%3A29%3A59.969539&network=IU&station=POHA&location=00&channel=BHZ&level=response\n",
      "Downloaded http://service.iris.edu/fdsnws/station/1/query?starttime=2017-12-31T23%3A30%3A00.019539&endtime=2018-01-02T00%3A29%3A59.969539&network=IU&station=POHA&location=00&channel=BHZ&level=response with HTTP code: 200\n"
     ]
    },
    {
     "name": "stderr",
     "output_type": "stream",
     "text": [
      "/Users/Yin9xun/opt/anaconda3/envs/spyder-py36/lib/python3.6/site-packages/obspy/io/mseed/core.py:790: UserWarning: The encoding specified in trace.stats.mseed.encoding does not match the dtype of the data.\n",
      "A suitable encoding will be chosen.\n",
      "  warnings.warn(msg, UserWarning)\n"
     ]
    }
   ],
   "source": [
    "# Set the time of waveform we want (1 hour long)\n",
    "starttime=obspy.UTCDateTime(year, month, day, hour, minute, second)\n",
    "endtime=obspy.UTCDateTime(year, month, day+1, hour, minute, second)\n",
    "download_waveforms(network, stations, channels, starttime, endtime, waveform_dir)"
   ]
  },
  {
   "cell_type": "code",
   "execution_count": null,
   "id": "operational-young",
   "metadata": {},
   "outputs": [],
   "source": []
  }
 ],
 "metadata": {
  "kernelspec": {
   "display_name": "spyder-py36",
   "language": "python",
   "name": "spyder-py36"
  },
  "language_info": {
   "codemirror_mode": {
    "name": "ipython",
    "version": 3
   },
   "file_extension": ".py",
   "mimetype": "text/x-python",
   "name": "python",
   "nbconvert_exporter": "python",
   "pygments_lexer": "ipython3",
   "version": "3.6.13"
  }
 },
 "nbformat": 4,
 "nbformat_minor": 5
}
