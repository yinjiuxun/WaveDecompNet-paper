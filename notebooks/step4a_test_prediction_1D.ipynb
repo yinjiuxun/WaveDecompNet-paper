{
 "cells": [
  {
   "cell_type": "code",
   "execution_count": 1,
   "id": "cd6f4559",
   "metadata": {},
   "outputs": [],
   "source": [
    "import sys\n",
    "sys.path.append('..')\n",
    "\n",
    "import os\n",
    "from matplotlib import pyplot as plt\n",
    "import numpy as np\n",
    "import h5py\n",
    "from utilities import mkdir\n",
    "from sklearn.model_selection import train_test_split\n",
    "import torch\n",
    "from torch.utils.data import DataLoader\n",
    "from torch_tools import WaveformDataset, try_gpu\n",
    "\n",
    "os.chdir('..')"
   ]
  },
  {
   "cell_type": "code",
   "execution_count": 2,
   "id": "b8533af1",
   "metadata": {},
   "outputs": [],
   "source": [
    "# %% Need to specify model_name first\n",
    "model_name = 'Autoencoder_conv1d_pytorch'\n",
    "model_dir = './Model_and_datasets_1D_STEAD' + f'/{model_name}'\n",
    "data_dir = './training_datasets'\n",
    "\n",
    "# %% load dataset\n",
    "with h5py.File(data_dir + '/training_datasets_STEAD_waveform.hdf5', 'r') as f:\n",
    "    time = f['time'][:]\n",
    "    X_train = f['X_train'][:]\n",
    "    Y_train = f['Y_train'][:]"
   ]
  },
  {
   "cell_type": "code",
   "execution_count": 3,
   "id": "507a21ef",
   "metadata": {},
   "outputs": [],
   "source": [
    "# split the model based on the information provided by the model\n",
    "# split the model based on the information provided by the model\n",
    "with h5py.File(model_dir + '/' + f'/{model_name}_Dataset_split.hdf5', 'r') as f:\n",
    "    train_size = f.attrs['train_size']\n",
    "    test_size = f.attrs['test_size']\n",
    "    rand_seed1 = f.attrs['rand_seed1']\n",
    "    rand_seed2 = f.attrs['rand_seed2']\n",
    "\n",
    "X_train, X_test, Y_train, Y_test = train_test_split(X_train, Y_train, train_size=train_size, random_state=rand_seed1)\n",
    "X_validate, X_test, Y_validate, Y_test = train_test_split(X_test, Y_test, test_size=test_size, random_state=rand_seed2)\n",
    "\n",
    "training_data = WaveformDataset(X_train, Y_train)\n",
    "validate_data = WaveformDataset(X_validate, Y_validate)\n",
    "test_data = WaveformDataset(X_test, Y_test)"
   ]
  },
  {
   "cell_type": "code",
   "execution_count": 4,
   "id": "f2d9f957",
   "metadata": {},
   "outputs": [],
   "source": [
    "# %% load model\n",
    "model = torch.load(model_dir + '/' + f'{model_name}_Model.pth')"
   ]
  },
  {
   "cell_type": "code",
   "execution_count": 5,
   "id": "eb8206bc",
   "metadata": {},
   "outputs": [
    {
     "name": "stdout",
     "output_type": "stream",
     "text": [
      "Test Loss: 0.097339\n",
      "\n"
     ]
    }
   ],
   "source": [
    "batch_size = 256\n",
    "test_iter = DataLoader(test_data, batch_size=batch_size, shuffle=True)\n",
    "device = try_gpu()\n",
    "# Evaluate the test loss for the model\n",
    "loss_fn = torch.nn.MSELoss()\n",
    "test_loss = 0.0\n",
    "model.eval()\n",
    "for X, y in test_iter:\n",
    "    X, y = X.to(device), y.to(device)\n",
    "    if len(y.data) != batch_size:\n",
    "        break\n",
    "    # forward pass: compute predicted outputs by passing inputs to the model\n",
    "    output = model(X)\n",
    "    # calculate the loss\n",
    "    loss = loss_fn(output, y)\n",
    "    # update test loss\n",
    "    test_loss += loss.item() * X.size(0)\n",
    "\n",
    "test_loss = test_loss/len(test_iter.dataset)\n",
    "print('Test Loss: {:.6f}\\n'.format(test_loss))"
   ]
  },
  {
   "cell_type": "code",
   "execution_count": 6,
   "id": "e0d64e59",
   "metadata": {},
   "outputs": [
    {
     "data": {
      "image/png": "[encoded data removed]",
      "text/plain": [
       "<Figure size 432x288 with 1 Axes>"
      ]
     },
     "metadata": {
      "needs_background": "light"
     },
     "output_type": "display_data"
    }
   ],
   "source": [
    "# Output some figures\n",
    "figure_dir = model_dir + '/Figures'\n",
    "mkdir(figure_dir)\n",
    "\n",
    "# %% Show loss evolution\n",
    "with h5py.File(model_dir + '/' + f'{model_name}_Training_history.hdf5', 'r') as f:\n",
    "    loss = f['loss'][:]\n",
    "    val_loss = f['val_loss'][:]\n",
    "plt.figure()\n",
    "plt.plot(loss, 'o', label='Training loss')\n",
    "plt.plot(val_loss, '-', label='Validation loss')\n",
    "plt.plot([1, len(loss)], [test_loss, test_loss], '-', label='Test loss', linewidth=4)\n",
    "plt.legend()\n",
    "plt.title(model_name)\n",
    "#plt.show()\n",
    "plt.savefig(figure_dir + f\"/{model_name}_Loss_evolution.png\")\n"
   ]
  },
  {
   "cell_type": "code",
   "execution_count": 7,
   "id": "62b18d43",
   "metadata": {},
   "outputs": [],
   "source": [
    "# %% predict the waveforms\n",
    "# obtain one batch of test images\n",
    "data_iter = iter(test_iter)\n",
    "noisy_signal, clean_signal = data_iter.next()\n",
    "\n",
    "noisy_signal, clean_signal = noisy_signal.to(device), clean_signal.to(device)\n",
    "\n",
    "# get sample outputs\n",
    "denoised_signal = model(noisy_signal)\n",
    "\n",
    "noisy_signal = noisy_signal.to('cpu').detach().numpy()\n",
    "clean_signal = clean_signal.to('cpu').detach().numpy()\n",
    "denoised_signal = denoised_signal.to('cpu').detach().numpy()"
   ]
  },
  {
   "cell_type": "code",
   "execution_count": null,
   "id": "ecfa701e",
   "metadata": {},
   "outputs": [],
   "source": [
    "# %% Check the waveforms\n",
    "plt.close(\"all\")\n",
    "i_model = np.random.randint(0, denoised_signal.shape[0])\n",
    "fig, ax = plt.subplots(denoised_signal.shape[1], 2, sharex=True, sharey=True, num=1, figsize=(12, 8))\n",
    "\n",
    "vmax = None\n",
    "vmin = None\n",
    "for i in range(noisy_signal.shape[1]):\n",
    "    ax[i, 0].plot(time, noisy_signal[i_model, i, :], '-k', label='X_input', linewidth=1.5)\n",
    "    ax[i, 0].plot(time, clean_signal[i_model, i, :], '-r', label='Y_true', linewidth=1)\n",
    "    ax[i, 1].plot(time, clean_signal[i_model, i, :], '-r', label='Y_true', linewidth=1)\n",
    "    ax[i, 1].plot(time, denoised_signal[i_model, i, :], '-b', label='Y_predict', linewidth=1)\n",
    "\n",
    "\n",
    "titles = ['E', 'N', 'Z']\n",
    "for i in range(noisy_signal.shape[1]):\n",
    "    ax[i, 0].set_ylabel(titles[i])\n",
    "\n",
    "ax[0, 0].legend()\n",
    "ax[0, 1].legend()\n",
    "ax[-1, 0].set_xlabel('Time (s)')\n",
    "ax[-1, 1].set_xlabel('Time (s)')\n",
    "#plt.show()\n",
    "\n",
    "plt.figure(1)\n",
    "plt.savefig(figure_dir + f'/{model_name}_Prediction_waveform_model_{i_model}.png')"
   ]
  },
  {
   "cell_type": "code",
   "execution_count": 26,
   "id": "5e18645b",
   "metadata": {},
   "outputs": [
    {
     "data": {
      "text/plain": [
       "array([[[-9.16223264e-02,  2.19326643e-03, -4.11394311e-02, ...,\n",
       "         -2.67724036e-02, -1.88970113e-02,  1.34135222e-01],\n",
       "        [ 6.10833737e-02, -2.30241610e-02,  1.42745751e-02, ...,\n",
       "         -6.31312462e-02,  2.30911888e-02, -8.44203719e-02],\n",
       "        [-5.87964905e-02,  3.11126377e-03, -6.21450339e-03, ...,\n",
       "          7.49512048e-03, -6.01561050e-02,  7.20130522e-02]],\n",
       "\n",
       "       [[-2.61214738e-01, -2.01770188e-01, -1.68214661e-01, ...,\n",
       "         -1.24437000e-01,  2.37044502e-01, -3.06520485e-01],\n",
       "        [-3.82135081e-02, -9.97342847e-03,  5.16830795e-02, ...,\n",
       "         -1.09264065e-01, -2.39280246e-01, -4.75378008e-01],\n",
       "        [ 2.67874708e-03,  7.17249510e-02, -1.99568387e-02, ...,\n",
       "         -5.18509583e-01, -1.54153274e+00, -3.55272604e-01]],\n",
       "\n",
       "       [[-2.92461917e-01, -5.61908534e-02, -8.62890320e-02, ...,\n",
       "          2.13752004e-02, -1.58478719e-01,  1.75436079e-01],\n",
       "        [-2.23718185e-01, -1.58371628e-02,  1.13014126e-01, ...,\n",
       "         -1.99957342e-02,  6.10676845e-02, -1.26929982e-02],\n",
       "        [ 3.95753626e-02,  9.08589425e-02, -1.68432538e-02, ...,\n",
       "          7.21660538e-02,  3.54435430e-02,  8.67236834e-02]],\n",
       "\n",
       "       ...,\n",
       "\n",
       "       [[ 1.27188571e-01,  1.34607463e-01, -6.72143903e-03, ...,\n",
       "         -6.18191395e-02,  6.48756511e-02,  3.21979732e-02],\n",
       "        [ 3.74297388e-01, -1.72650828e-02,  1.70554028e-01, ...,\n",
       "         -1.11980152e-01,  1.42910862e-01, -1.12012438e-01],\n",
       "        [-2.38348310e-02, -4.75787244e-02,  1.46536901e-01, ...,\n",
       "          1.26642311e-02, -1.20622705e-01,  8.15493798e-02]],\n",
       "\n",
       "       [[-6.31751941e-02,  1.17992931e-02, -3.21216407e-02, ...,\n",
       "          5.83196534e-02, -1.97583283e-01,  8.30314460e-03],\n",
       "        [ 4.38164041e-02, -1.99779497e-03,  3.47768156e-02, ...,\n",
       "         -1.41972663e-02,  8.96288181e-02,  2.42059856e-02],\n",
       "        [-7.43809282e-02, -1.64717643e-03,  3.09989878e-03, ...,\n",
       "          6.78485841e-02,  3.80895030e-02, -6.02049494e-02]],\n",
       "\n",
       "       [[-6.73352532e-02,  8.31105915e-03, -3.94538678e-02, ...,\n",
       "         -3.18110466e-02, -4.38813844e-02,  1.25200120e-01],\n",
       "        [ 6.22368296e-02, -2.55931599e-03,  3.06350016e-02, ...,\n",
       "         -5.66648972e-02,  2.98625126e-02, -7.95947650e-02],\n",
       "        [-6.57459934e-02, -4.00434667e-03,  1.56025738e-04, ...,\n",
       "          1.65179814e-02, -5.72556539e-02,  4.73227920e-02]]])"
      ]
     },
     "execution_count": 26,
     "metadata": {},
     "output_type": "execute_result"
    }
   ],
   "source": [
    "denoised_signal - clean_signal"
   ]
  },
  {
   "cell_type": "code",
   "execution_count": 28,
   "id": "f1a868e1",
   "metadata": {},
   "outputs": [
    {
     "data": {
      "text/plain": [
       "array([[-0.2422789 , -0.70794842, -1.15830272],\n",
       "       [ 0.32047611, -1.02152624,  0.92810673],\n",
       "       [-0.51204365,  0.17646835, -0.31771416],\n",
       "       ...,\n",
       "       [ 0.00525982, -0.34430545,  0.39246317],\n",
       "       [-0.41740373, -0.40886742,  0.92656017],\n",
       "       [ 0.93686092,  0.17799443, -0.52421199]])"
      ]
     },
     "execution_count": 28,
     "metadata": {},
     "output_type": "execute_result"
    }
   ],
   "source": [
    "X_test[1,:, :] - Y_test[1, :, :]\n"
   ]
  },
  {
   "cell_type": "code",
   "execution_count": null,
   "id": "dca24e6d",
   "metadata": {},
   "outputs": [],
   "source": []
  }
 ],
 "metadata": {
  "kernelspec": {
   "display_name": "Python 3",
   "language": "python",
   "name": "python3"
  },
  "language_info": {
   "codemirror_mode": {
    "name": "ipython",
    "version": 3
   },
   "file_extension": ".py",
   "mimetype": "text/x-python",
   "name": "python",
   "nbconvert_exporter": "python",
   "pygments_lexer": "ipython3",
   "version": "3.8.10"
  }
 },
 "nbformat": 4,
 "nbformat_minor": 5
}
